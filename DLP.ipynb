{
 "cells": [
  {
   "cell_type": "code",
   "execution_count": 1,
   "metadata": {},
   "outputs": [],
   "source": [
    "%run ./PrimeNumber.ipynb\n",
    "%run ./IF.ipynb"
   ]
  },
  {
   "cell_type": "code",
   "execution_count": 2,
   "metadata": {},
   "outputs": [],
   "source": [
    "### DLP Algorithm for Multiplicative group of integers modulo m\n",
    "# m: modulus with m > 1\n",
    "# op: muliplication mod m\n",
    "# e: 1\n",
    "# a: integer in range (0, m)\n",
    "# n: some positive integer such that a^n = 1 mod m\n",
    "\n",
    "# Given m, \n",
    "def MultiplicativeOrder(m, a):\n",
    "    return\n",
    "\n",
    "def SquareAndMultiply(a, x, m):\n",
    "    return\n",
    "\n",
    "def Exp(a, x, m):\n",
    "    return\n",
    "\n",
    "def BabyStepGiantStep(a, b, m):\n",
    "    return\n",
    "\n",
    "# Only for smooth p-1 \n",
    "def PohligHellman(a, b, p):\n",
    "    L = SmoothFactoring(p-1)\n",
    "    q = 1\n",
    "    for divisor in L:\n",
    "        q *= divisor[0]**divisor[1]\n",
    "    if q != p-1:\n",
    "        print(\"p-1 is not smooth\")\n",
    "        return L\n",
    "    M = list()\n",
    "    for divisor in L:\n",
    "        w = 0\n",
    "        e = divisor[0]**divisor[1]\n",
    "        t = (p-1)//e\n",
    "        s_0 = pow(a, t, p)\n",
    "        s_1 = pow(s_0, divisor[0]**(divisor[1]-1), p)\n",
    "        u = pow(b, t, p)\n",
    "        for i in range(0, divisor[1]):\n",
    "            z = InverseMod(pow(s_0, w, p), p)\n",
    "            u_0 = (u*z)%p\n",
    "            u_0 = pow(u_0, divisor[0]**(divisor[1]-i-1), p)\n",
    "            v = 1\n",
    "            for j in range(0, divisor[0]):\n",
    "                if v == u_0:\n",
    "                    w += j*(divisor[0]**i)\n",
    "                    break\n",
    "                v = (v*s_1)%p\n",
    "        M.append((e, w))\n",
    "    #print(M)\n",
    "    x = MultipleCRT(M)\n",
    "    return x\n",
    "\n",
    "def IndexCalculus(a, b, p):\n",
    "    return"
   ]
  },
  {
   "cell_type": "code",
   "execution_count": null,
   "metadata": {},
   "outputs": [],
   "source": []
  }
 ],
 "metadata": {
  "anaconda-cloud": {},
  "kernelspec": {
   "display_name": "Python 3",
   "language": "python",
   "name": "python3"
  },
  "language_info": {
   "codemirror_mode": {
    "name": "ipython",
    "version": 3
   },
   "file_extension": ".py",
   "mimetype": "text/x-python",
   "name": "python",
   "nbconvert_exporter": "python",
   "pygments_lexer": "ipython3",
   "version": "3.5.2"
  }
 },
 "nbformat": 4,
 "nbformat_minor": 2
}
