{
 "cells": [
  {
   "cell_type": "code",
   "execution_count": 1,
   "metadata": {},
   "outputs": [],
   "source": [
    "def BinarySearch(a, b, pred):\n",
    "    if a > b or (not pred(a)):\n",
    "        return None\n",
    "    if pred(b):\n",
    "        return b\n",
    "    left = a\n",
    "    right = b\n",
    "    mid = (left+right)//2\n",
    "    while left < mid:\n",
    "        #print(left, mid, right)\n",
    "        if pred(mid):\n",
    "            left = mid\n",
    "        else:\n",
    "            right = mid\n",
    "        mid = (left+right)//2\n",
    "    #print(left, mid, right)\n",
    "    return left\n"
   ]
  },
  {
   "cell_type": "code",
   "execution_count": 2,
   "metadata": {},
   "outputs": [],
   "source": [
    "# find greatest square less than or equal to a\n",
    "def GreatestSquareRoot(a):\n",
    "    assert a > 0\n",
    "    b = BinarySearch(0, a, lambda x: x*x <= a)\n",
    "    return b\n",
    "\n",
    "def GCD(a, b):\n",
    "    if a < b:\n",
    "        t = a; a = b; b = t\n",
    "    assert b >= 0\n",
    "    while b != 0:\n",
    "        r = a%b\n",
    "        a = b\n",
    "        b = r\n",
    "    return a\n",
    "\n",
    "def InverseMod(a, m):\n",
    "    b = a%m\n",
    "    a = m\n",
    "    s = 0\n",
    "    t = 1\n",
    "    assert b > 0\n",
    "    while b != 0:\n",
    "        r = a%b\n",
    "        k = a//b\n",
    "        u = (-k)*t + s\n",
    "        s = t\n",
    "        t = u\n",
    "        a = b\n",
    "        b = r\n",
    "    return s if s >= 0 else s + m\n",
    "\n",
    "def CRT(m, a, n, b):\n",
    "    assert GCD(m, n) == 1\n",
    "    l = m*n\n",
    "    c = n*InverseMod(n, m)\n",
    "    d = m*InverseMod(m, n)\n",
    "    return (l, (a*c + b*d)%l) \n",
    "\n",
    "def MultipleCRT(L):\n",
    "    assert len(L) > 1\n",
    "    (m, a) = L[0]\n",
    "    for i in range(1, len(L)):\n",
    "        (n, b) = L[i]\n",
    "        (m, a) = CRT(m, a, n, b)\n",
    "    return (m, a)"
   ]
  },
  {
   "cell_type": "code",
   "execution_count": 3,
   "metadata": {},
   "outputs": [],
   "source": [
    "# Only for smooth p-1 \n",
    "def PrimitiveElement(p):\n",
    "    L = SmoothFactoring(p-1)\n",
    "    q = 1\n",
    "    for divisor in L:\n",
    "        q *= divisor[0]**divisor[1]\n",
    "    if q != p-1:\n",
    "        print(\"p-1 is not smooth\")\n",
    "        return L\n",
    "    for i in range(2, p):\n",
    "        for j in range(0, len(L)):\n",
    "            divisor = L[j][0]\n",
    "            if pow(i, (p-1)//divisor, p) == 1: break\n",
    "        if j == len(L) - 1: return i\n",
    "    print(\"Not Found\")\n",
    "    return L\n"
   ]
  },
  {
   "cell_type": "code",
   "execution_count": null,
   "metadata": {},
   "outputs": [],
   "source": []
  }
 ],
 "metadata": {
  "anaconda-cloud": {},
  "kernelspec": {
   "display_name": "Python 3",
   "language": "python",
   "name": "python3"
  },
  "language_info": {
   "codemirror_mode": {
    "name": "ipython",
    "version": 3
   },
   "file_extension": ".py",
   "mimetype": "text/x-python",
   "name": "python",
   "nbconvert_exporter": "python",
   "pygments_lexer": "ipython3",
   "version": "3.5.2"
  }
 },
 "nbformat": 4,
 "nbformat_minor": 2
}
