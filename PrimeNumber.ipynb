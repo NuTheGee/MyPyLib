{
 "cells": [
  {
   "cell_type": "code",
   "execution_count": 1,
   "metadata": {},
   "outputs": [],
   "source": [
    "%run ./Integer.ipynb"
   ]
  },
  {
   "cell_type": "code",
   "execution_count": 3,
   "metadata": {},
   "outputs": [],
   "source": [
    "# list of primes less than or equal to n\n",
    "# n < 2**24\n",
    "def EratosthenesSieve(n):\n",
    "    p = list()\n",
    "    assert n > 0\n",
    "    s = list(range(0, n+1))\n",
    "    s[0] = -1; s[1] = -1;\n",
    "    i = 0\n",
    "    while i <= n:\n",
    "        while i <= n and s[i] == -1: i += 1\n",
    "        if i > n: break\n",
    "        p.append(s[i])\n",
    "        j = 2\n",
    "        while s[i]*j <= n:\n",
    "            s[s[i]*j] = -1\n",
    "            j += 1\n",
    "        i += 1\n",
    "    return p\n",
    "\n",
    "# primality of a\n",
    "# n < 2**48\n",
    "def TrialDivision(a):\n",
    "    b = GreatestSquareRoot(a)\n",
    "    primes = EratosthenesSieve(b)\n",
    "    for prime in primes:\n",
    "        if a%prime == 0: return False\n",
    "    return True"
   ]
  },
  {
   "cell_type": "code",
   "execution_count": null,
   "metadata": {},
   "outputs": [],
   "source": []
  }
 ],
 "metadata": {
  "anaconda-cloud": {},
  "kernelspec": {
   "display_name": "Python 3",
   "language": "python",
   "name": "python3"
  },
  "language_info": {
   "codemirror_mode": {
    "name": "ipython",
    "version": 3
   },
   "file_extension": ".py",
   "mimetype": "text/x-python",
   "name": "python",
   "nbconvert_exporter": "python",
   "pygments_lexer": "ipython3",
   "version": "3.5.2"
  }
 },
 "nbformat": 4,
 "nbformat_minor": 2
}
