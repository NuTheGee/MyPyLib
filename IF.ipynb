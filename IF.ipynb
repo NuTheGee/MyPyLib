{
 "cells": [
  {
   "cell_type": "code",
   "execution_count": 3,
   "metadata": {},
   "outputs": [],
   "source": [
    "%run ./PrimeNumber.ipynb"
   ]
  },
  {
   "cell_type": "code",
   "execution_count": 4,
   "metadata": {},
   "outputs": [],
   "source": [
    "# find prime divisors of a less than or equal to s\n",
    "def SmoothFactoring(a, s=2**20):\n",
    "    divisors = list()\n",
    "    primes = EratosthenesSieve(s)\n",
    "    for prime in primes:\n",
    "        exp = 0\n",
    "        while a%prime == 0:\n",
    "            a = a//prime\n",
    "            exp += 1\n",
    "        if exp != 0:\n",
    "            divisors.append((prime, exp))\n",
    "    return divisors"
   ]
  }
 ],
 "metadata": {
  "anaconda-cloud": {},
  "kernelspec": {
   "display_name": "Python 3",
   "language": "python",
   "name": "python3"
  },
  "language_info": {
   "codemirror_mode": {
    "name": "ipython",
    "version": 3
   },
   "file_extension": ".py",
   "mimetype": "text/x-python",
   "name": "python",
   "nbconvert_exporter": "python",
   "pygments_lexer": "ipython3",
   "version": "3.5.2"
  }
 },
 "nbformat": 4,
 "nbformat_minor": 2
}
